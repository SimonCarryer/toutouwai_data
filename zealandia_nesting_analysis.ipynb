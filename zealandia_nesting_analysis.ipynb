{
 "cells": [
  {
   "cell_type": "code",
   "execution_count": 1,
   "metadata": {},
   "outputs": [],
   "source": [
    "import pandas as pd\n",
    "import numpy as np"
   ]
  },
  {
   "cell_type": "markdown",
   "metadata": {},
   "source": [
    "# Analysis of Zealandia Nesting Data"
   ]
  },
  {
   "cell_type": "code",
   "execution_count": 2,
   "metadata": {},
   "outputs": [],
   "source": [
    "df = pd.read_csv(\"data/zealandia_nesting_data.csv\")"
   ]
  },
  {
   "cell_type": "markdown",
   "metadata": {},
   "source": [
    "### Nest success metrics\n",
    "\n",
    "We'll start by calculating the number of pairs, and the number of offspring of each pair, for each year. For example, in the 2022/2023 year, there were 68 pairs which nested at least once, and they produced a total of 41 offspring (viable fledgelings)."
   ]
  },
  {
   "cell_type": "code",
   "execution_count": 3,
   "metadata": {},
   "outputs": [
    {
     "data": {
      "text/plain": [
       "number_of_offspring    68\n",
       "number_of_pairs        41\n",
       "Name: 2022/2023, dtype: int64"
      ]
     },
     "execution_count": 3,
     "metadata": {},
     "output_type": "execute_result"
    }
   ],
   "source": [
    "nesting_outcomes = (\n",
    "    df.groupby(\"nsbsid\")\n",
    "        .agg({\"nsoffspring\": \"sum\", \"nsbpid\": \"nunique\"})\n",
    "        .rename(columns={\"nsoffspring\": \"number_of_offspring\", \"nsbpid\": \"number_of_pairs\"})\n",
    "        .sort_index()\n",
    ")\n",
    "\n",
    "nesting_outcomes.loc[\"2022/2023\"]"
   ]
  },
  {
   "cell_type": "markdown",
   "metadata": {},
   "source": [
    "We can calculate some additional metrics. I've added \"offspring per pair\", which is just the number of offspring divided by the number of pairs, and \"proportion with 1+ offspring\", which counts the proportion of pairs in each year which produced at least one fledgeling in that year. For example, in the 2021/2022 nesting year, 82% of pairs produced at least one viable fledgeling. "
   ]
  },
  {
   "cell_type": "code",
   "execution_count": 4,
   "metadata": {},
   "outputs": [
    {
     "data": {
      "text/plain": [
       "0.82"
      ]
     },
     "execution_count": 4,
     "metadata": {},
     "output_type": "execute_result"
    }
   ],
   "source": [
    "nesting_outcomes[\"offspring_per_pair\"] = (\n",
    "        nesting_outcomes[\"number_of_offspring\"]/\n",
    "        nesting_outcomes[\"number_of_pairs\"]\n",
    ").round(2)\n",
    "\n",
    "nesting_outcomes[\"proportion_with_1+_offspring\"] = (\n",
    "    df.groupby([\"nsbsid\", \"nsbpid\"])\n",
    "        [\"nsoffspring\"].sum()\n",
    "        .gt(0)\n",
    "        .groupby(\"nsbsid\")\n",
    "        .mean()\n",
    "        .round(2)\n",
    ")\n",
    "\n",
    "nesting_outcomes.loc[\"2021/2022\"][\"proportion_with_1+_offspring\"]"
   ]
  },
  {
   "cell_type": "markdown",
   "metadata": {},
   "source": [
    "### Returning birds\n",
    "\n",
    "Another possible metric is the number of birds who form a pair in one year who return to form a pair (with any other bird) in the subsequent year. For example, in the 2020/2021 nesting season, 75% of the birds who nested in that season were also recorded as nesting in the 2021/2022 season."
   ]
  },
  {
   "cell_type": "code",
   "execution_count": 5,
   "metadata": {},
   "outputs": [
    {
     "data": {
      "text/plain": [
       "0.75"
      ]
     },
     "execution_count": 5,
     "metadata": {},
     "output_type": "execute_result"
    }
   ],
   "source": [
    "def prev_year(nsbsid):\n",
    "    return \"/\".join([str(int(year)-1) for year in nsbsid.split(\"/\")])\n",
    "\n",
    "df[\"prev_nsbsid\"] = df[\"nsbsid\"].apply(prev_year)\n",
    "\n",
    "year = pd.concat([(\n",
    "        df.groupby([\"nsbsid\", bird_sex])\n",
    "            .size()\n",
    "            .rename(\"year\")\n",
    "    ) for bird_sex in [\"nsmalename\", \"nsfemalename\"]], axis=0)\n",
    "\n",
    "subsequent_year = pd.concat([(\n",
    "        df.groupby([\"prev_nsbsid\", bird_sex])\n",
    "            .size()\n",
    "            .rename(\"subsequent_year\")\n",
    "    ) for bird_sex in [\"nsmalename\", \"nsfemalename\"]], axis=0)\n",
    "\n",
    "present_in_year = pd.concat([year, subsequent_year], axis=1).notna()\n",
    "present_in_year = present_in_year.loc[present_in_year[\"year\"]]\n",
    "\n",
    "\n",
    "nesting_outcomes[\"proportion_returning_next_year\"] = (\n",
    "    present_in_year.groupby(\n",
    "        present_in_year\n",
    "            .index\n",
    "            .get_level_values(0))\n",
    "        [\"subsequent_year\"].mean()\n",
    "        .round(2)\n",
    "        .replace({0:np.nan})\n",
    ")\n",
    "\n",
    "nesting_outcomes.loc[\"2020/2021\"][\"proportion_returning_next_year\"]\n"
   ]
  },
  {
   "cell_type": "markdown",
   "metadata": {},
   "source": [
    "### Final table\n",
    "\n",
    "Here's the final table of data:"
   ]
  },
  {
   "cell_type": "code",
   "execution_count": 6,
   "metadata": {},
   "outputs": [
    {
     "data": {
      "text/html": [
       "<div>\n",
       "<style scoped>\n",
       "    .dataframe tbody tr th:only-of-type {\n",
       "        vertical-align: middle;\n",
       "    }\n",
       "\n",
       "    .dataframe tbody tr th {\n",
       "        vertical-align: top;\n",
       "    }\n",
       "\n",
       "    .dataframe thead th {\n",
       "        text-align: right;\n",
       "    }\n",
       "</style>\n",
       "<table border=\"1\" class=\"dataframe\">\n",
       "  <thead>\n",
       "    <tr style=\"text-align: right;\">\n",
       "      <th></th>\n",
       "      <th>number_of_offspring</th>\n",
       "      <th>number_of_pairs</th>\n",
       "      <th>offspring_per_pair</th>\n",
       "      <th>proportion_with_1+_offspring</th>\n",
       "      <th>proportion_returning_next_year</th>\n",
       "    </tr>\n",
       "    <tr>\n",
       "      <th>nsbsid</th>\n",
       "      <th></th>\n",
       "      <th></th>\n",
       "      <th></th>\n",
       "      <th></th>\n",
       "      <th></th>\n",
       "    </tr>\n",
       "  </thead>\n",
       "  <tbody>\n",
       "    <tr>\n",
       "      <th>2014/2015</th>\n",
       "      <td>44</td>\n",
       "      <td>30</td>\n",
       "      <td>1.47</td>\n",
       "      <td>0.80</td>\n",
       "      <td>0.69</td>\n",
       "    </tr>\n",
       "    <tr>\n",
       "      <th>2015/2016</th>\n",
       "      <td>43</td>\n",
       "      <td>33</td>\n",
       "      <td>1.30</td>\n",
       "      <td>0.76</td>\n",
       "      <td>0.67</td>\n",
       "    </tr>\n",
       "    <tr>\n",
       "      <th>2016/2017</th>\n",
       "      <td>53</td>\n",
       "      <td>37</td>\n",
       "      <td>1.43</td>\n",
       "      <td>0.78</td>\n",
       "      <td>0.72</td>\n",
       "    </tr>\n",
       "    <tr>\n",
       "      <th>2017/2018</th>\n",
       "      <td>55</td>\n",
       "      <td>34</td>\n",
       "      <td>1.62</td>\n",
       "      <td>0.94</td>\n",
       "      <td>0.68</td>\n",
       "    </tr>\n",
       "    <tr>\n",
       "      <th>2018/2019</th>\n",
       "      <td>58</td>\n",
       "      <td>32</td>\n",
       "      <td>1.81</td>\n",
       "      <td>0.84</td>\n",
       "      <td>0.68</td>\n",
       "    </tr>\n",
       "    <tr>\n",
       "      <th>2019/2020</th>\n",
       "      <td>42</td>\n",
       "      <td>31</td>\n",
       "      <td>1.35</td>\n",
       "      <td>0.77</td>\n",
       "      <td>0.63</td>\n",
       "    </tr>\n",
       "    <tr>\n",
       "      <th>2020/2021</th>\n",
       "      <td>56</td>\n",
       "      <td>31</td>\n",
       "      <td>1.81</td>\n",
       "      <td>0.77</td>\n",
       "      <td>0.75</td>\n",
       "    </tr>\n",
       "    <tr>\n",
       "      <th>2021/2022</th>\n",
       "      <td>77</td>\n",
       "      <td>40</td>\n",
       "      <td>1.92</td>\n",
       "      <td>0.82</td>\n",
       "      <td>0.71</td>\n",
       "    </tr>\n",
       "    <tr>\n",
       "      <th>2022/2023</th>\n",
       "      <td>68</td>\n",
       "      <td>41</td>\n",
       "      <td>1.66</td>\n",
       "      <td>0.78</td>\n",
       "      <td>NaN</td>\n",
       "    </tr>\n",
       "  </tbody>\n",
       "</table>\n",
       "</div>"
      ],
      "text/plain": [
       "           number_of_offspring  number_of_pairs  offspring_per_pair  \\\n",
       "nsbsid                                                                \n",
       "2014/2015                   44               30                1.47   \n",
       "2015/2016                   43               33                1.30   \n",
       "2016/2017                   53               37                1.43   \n",
       "2017/2018                   55               34                1.62   \n",
       "2018/2019                   58               32                1.81   \n",
       "2019/2020                   42               31                1.35   \n",
       "2020/2021                   56               31                1.81   \n",
       "2021/2022                   77               40                1.92   \n",
       "2022/2023                   68               41                1.66   \n",
       "\n",
       "           proportion_with_1+_offspring  proportion_returning_next_year  \n",
       "nsbsid                                                                   \n",
       "2014/2015                          0.80                            0.69  \n",
       "2015/2016                          0.76                            0.67  \n",
       "2016/2017                          0.78                            0.72  \n",
       "2017/2018                          0.94                            0.68  \n",
       "2018/2019                          0.84                            0.68  \n",
       "2019/2020                          0.77                            0.63  \n",
       "2020/2021                          0.77                            0.75  \n",
       "2021/2022                          0.82                            0.71  \n",
       "2022/2023                          0.78                             NaN  "
      ]
     },
     "execution_count": 6,
     "metadata": {},
     "output_type": "execute_result"
    }
   ],
   "source": [
    "nesting_outcomes"
   ]
  }
 ],
 "metadata": {
  "kernelspec": {
   "display_name": "toutouwai_env",
   "language": "python",
   "name": "python3"
  },
  "language_info": {
   "codemirror_mode": {
    "name": "ipython",
    "version": 3
   },
   "file_extension": ".py",
   "mimetype": "text/x-python",
   "name": "python",
   "nbconvert_exporter": "python",
   "pygments_lexer": "ipython3",
   "version": "3.11.3"
  }
 },
 "nbformat": 4,
 "nbformat_minor": 2
}
